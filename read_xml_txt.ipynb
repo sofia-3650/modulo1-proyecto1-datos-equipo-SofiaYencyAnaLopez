{
 "cells": [
  {
   "attachments": {},
   "cell_type": "markdown",
   "metadata": {},
   "source": [
    "# Este archivo contiene el código necesario para poder leer los ficheros xml y txt.Debido a que este contenido aún no se ha visto en clase, pero se verá a lo largo del módulo 1"
   ]
  },
  {
   "attachments": {},
   "cell_type": "markdown",
   "metadata": {},
   "source": [
    "## Lectura del fichero XML\n",
    "\n",
    "Nos devuelve una lista que contiene diccionarios con los diferentes elementos del archivo xml.\n",
    "\n",
    "Ejemplo:\n",
    "\n",
    "[{'level_0': 1, 'index': 1'time': 784, 'age': '50-54', 'gender': '0' },\n",
    " {'level_0': 2, 'index': 2'time': 924, 'age': '22-24', 'gender': '0'},\n",
    " {'level_0': 2, 'index': 2'time': 575, 'age': '45-49', 'gender': '0'},\n",
    " {'level_0': 2, 'index': 2'time': 781, 'age': '45-49', 'gender': '0'}\n",
    " {'level_0': 2, 'index': 2'time': 1020, 'age': '25-29', 'gender': '1'}]\n",
    "\n",
    "\n",
    "> Recomendación: Aprender a tratar los datos de un elemento del diccionario, antes de intentar aplicarlo a todos los datos del fichero xml."
   ]
  },
  {
   "cell_type": "code",
   "execution_count": 1,
   "metadata": {},
   "outputs": [],
   "source": [
    "import re\n",
    "import os\n",
    "import xml.etree.ElementTree as ET\n",
    "\n",
    "tree = ET.parse('datos.xml')\n",
    "root = tree.getroot()\n",
    "\n",
    "\n",
    "xml_list = []\n",
    "for child in root:\n",
    "    xml_dict = {}\n",
    "    for subchild in child:\n",
    "        xml_dict[subchild.tag] = subchild.text\n",
    "    xml_list.append(xml_dict) # Es una lista que contiene diccionarios"
   ]
  },
  {
   "cell_type": "code",
   "execution_count": 3,
   "metadata": {},
   "outputs": [
    {
     "name": "stdout",
     "output_type": "stream",
     "text": [
      "{'index': '25972', 'time': '255', 'age': '18-21', 'gender': '0'}\n"
     ]
    }
   ],
   "source": [
    "xml_list2 = xml_list.copy()\n",
    "xml_list2\n",
    "for diccionario in xml_list2:\n",
    "    diccionario.pop('level_0')\n",
    "print(diccionario)"
   ]
  },
  {
   "cell_type": "code",
   "execution_count": 16,
   "metadata": {},
   "outputs": [],
   "source": [
    "def limpieza_xml(archivo_xml):\n",
    "    tuplas_xml = []\n",
    "    for fila in archivo_xml:\n",
    "    \n",
    "        if fila [\"gender\"] == \"0\":\n",
    "            fila[\"gender\"] = \"Man\"\n",
    "\n",
    "        elif fila[\"gender\"] == \"1\":\n",
    "            fila[\"gender\"] = \"Woman\"\n",
    "\n",
    "        elif fila[\"gender\"] == \"2\":\n",
    "            fila[\"gender\"] = \"Nonbinary\"\n",
    "\n",
    "        elif fila[\"gender\"] == \"3\":\n",
    "            fila[\"gender\"] = \"Prefer not to say\"\n",
    "\n",
    "        elif fila[\"gender\"] == \"4\":                           # no ponemos else por si hubiera otro número\n",
    "            fila[\"gender\"] = \"Prefer to self-describe\"\n",
    "\n",
    "        tuplas_xml.append(tuple(fila.values()))\n",
    "        \n",
    "    return tuplas_xml"
   ]
  },
  {
   "cell_type": "code",
   "execution_count": 18,
   "metadata": {},
   "outputs": [],
   "source": [
    "tuplas_xml_= limpieza_xml(xml_list)"
   ]
  },
  {
   "attachments": {},
   "cell_type": "markdown",
   "metadata": {},
   "source": [
    "## Lectura del fichero TXT\n",
    "\n",
    "Nos devuelve una lista que contiene todos los elementos del archivo txt, cada elemento de la lista se toma como un único string. Cada elemento de la lista termina con \\n\n",
    "\n",
    "Ejemplo:\n",
    "\n",
    "['index_sql;Q3;Q4;Q5;Q6;Q7;Q8;Q9;Q11;Q12;Q13;Q14;Q15;Q16;Q17;Q20;Q21;Q22;Q23;Q24;Q25;Q26;Q32;Q33;Q34;Q35;Q41\\n',\n",
    " '1;Indonesia;Master’s degree;Program/Project Manager;20+ years;null, SQL, C, C++, Java;Python;null,   Notepad++  ,  Jupyter Notebook;A cloud computing platform (AWS, Azure, GCP, hosted notebooks, etc);null, None;Never; Matplotlib ;Under 1 year;  Scikit-learn ;Linear or Logistic Regression, Decision Trees or Random Forests;Manufacturing/Fabrication;1000-9,999 employees;1-2;We are exploring ML methods (and may one day put a model into production);null, Build and/or run the data infrastructure that my business uses for storing, analyzing, and operationalizing data;60,000-69,999;$0 ($USD);;;;;Advanced statistical software (SPSS, SAS, etc.)\\n',\n",
    " '2;Pakistan;Master’s degree;Software Engineer;1-3 years;Python, C++, Java;Python;null,  PyCharm ,  Jupyter Notebook, Other;A laptop;null, Other;Never; Matplotlib ;I do not use machine learning methods;;;Academics/Education;1000-9,999 employees;0;I do not know;null, None of these activities are an important part of my role at work;$0-999;$0 ($USD);MySQL , MongoDB ;MySQL ;null, None;;Basic statistical software (Microsoft Excel, Google Sheets, etc.)\\n',\n",
    " '3;Mexico;Doctoral degree;Research Scientist;20+ years;Python;Python;null,   Spyder  ,  Jupyter Notebook;A cloud computing platform (AWS, Azure, GCP, hosted notebooks, etc); NVIDIA GPUs ;More than 25 times; Matplotlib ;5-10 years;  Scikit-learn ,   TensorFlow ,  Keras ;null, Dense Neural Networks (MLPs, etc), Convolutional Neural Networks, Recurrent Neural Networks;Academics/Education;1000-9,999 employees;0;I do not know;null, Do research that advances the state of the art of machine learning;30,000-39,999;$0 ($USD);;;;;Local development environments (RStudio, JupyterLab, etc.)\\n',\n",
    "\n",
    "\n",
    "> Recomendación: Aprender a tratar los datos de algunos de los elementos de la lista, antes de intentar aplicarlo a todos los datos del fichero txt.\n",
    " - Primer elemento de la lista:\n",
    "    lista[0] = 'index_sql;Q3;Q4;Q5;Q6;Q7;Q8;Q9;Q11;Q12;Q13;Q14;Q15;Q16;Q17;Q20;Q21;Q22;Q23;Q24;Q25;Q26;Q32;Q33;Q34;Q35;Q41\\n'"
   ]
  },
  {
   "cell_type": "code",
   "execution_count": 8,
   "metadata": {},
   "outputs": [],
   "source": [
    "with open('data_txt.txt','r') as file:\n",
    "    file_source = file.readlines() # Es una lista que cada línea del fichero txt como un string de todos los datos."
   ]
  },
  {
   "attachments": {},
   "cell_type": "markdown",
   "metadata": {},
   "source": [
    "Fichero TXT:\n",
    "- Contiene espacios extra en algunos strings, que deben ser eliminados\n",
    "- Contiene elementos como '\\n', que deben ser eliminados\n",
    "- Contiene elementos como '<', que deben ser cambiados por 'under'\n",
    "- Contiene elementos como null, que deben ser cambiados por 'NULL'"
   ]
  },
  {
   "cell_type": "code",
   "execution_count": 9,
   "metadata": {},
   "outputs": [],
   "source": [
    "def limpiar_txt (archivo):\n",
    "  \n",
    "    archivo_limpio = []\n",
    "\n",
    "    for elemento in archivo:\n",
    "        limpieza = elemento.replace(\" \", \"\").replace(\"\\n\", \"\").replace('<', \"under\"). replace(\"null\", \"NULL\")\n",
    "        limpieza = tuple(limpieza.split(\";\"))\n",
    "        archivo_limpio.append(limpieza)\n",
    "        \n",
    "        \n",
    "    return archivo_limpio"
   ]
  },
  {
   "cell_type": "code",
   "execution_count": 10,
   "metadata": {},
   "outputs": [],
   "source": [
    "archivo_limpio = limpiar_txt(file_source)"
   ]
  },
  {
   "cell_type": "code",
   "execution_count": null,
   "metadata": {},
   "outputs": [],
   "source": [
    "archivo_limpio[:5]"
   ]
  }
 ],
 "metadata": {
  "kernelspec": {
   "display_name": "base",
   "language": "python",
   "name": "python3"
  },
  "language_info": {
   "codemirror_mode": {
    "name": "ipython",
    "version": 3
   },
   "file_extension": ".py",
   "mimetype": "text/x-python",
   "name": "python",
   "nbconvert_exporter": "python",
   "pygments_lexer": "ipython3",
   "version": "3.9.7"
  },
  "orig_nbformat": 4
 },
 "nbformat": 4,
 "nbformat_minor": 2
}
