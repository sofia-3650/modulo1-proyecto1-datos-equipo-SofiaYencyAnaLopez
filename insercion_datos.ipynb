{
 "cells": [
  {
   "cell_type": "code",
   "execution_count": 1,
   "metadata": {},
   "outputs": [],
   "source": [
    "import mysql.connector"
   ]
  },
  {
   "cell_type": "markdown",
   "metadata": {},
   "source": [
    "CREAMOS LA FUNCION PARA AUTOMATIZAR"
   ]
  },
  {
   "cell_type": "code",
   "execution_count": 11,
   "metadata": {},
   "outputs": [],
   "source": [
    "\n",
    "def crear_tabla(password,query):\n",
    "    cnx = mysql.connector.connect(user='root', password = password,\n",
    "                              auth_plugin='mysql_native_password',\n",
    "                              host='127.0.0.1',\n",
    "                              database = 'ADALAB_pro')\n",
    "    sql = cnx.cursor()\n",
    "   \n",
    "    try:\n",
    "        sql.execute(query)\n",
    "        print(sql)\n",
    "    except mysql.connector.Error as err:\n",
    "        print(err)\n",
    "        print(\"Error Code:\", err.errno)\n",
    "        print(\"SQLSTATE\", err.sqlstate)\n",
    "        print(\"Message\", err.msg)\n",
    "\n",
    "    \n",
    "    cnx.close()\n"
   ]
  },
  {
   "cell_type": "code",
   "execution_count": 12,
   "metadata": {},
   "outputs": [],
   "source": [
    "query_xml = \"\"\"CREATE TABLE IF NOT EXISTS `tabla_xml` \n",
    "\t\t(`index_xml` INT AUTO_INCREMENT NOT NULL,\n",
    "\t\t`time` VARCHAR(45) NOT NULL,\n",
    "\t\t`age` VARCHAR(45) NOT NULL,\n",
    "\t\t`gender` VARCHAR(45) NOT NULL,\n",
    "\t\t`index_sql` INT NOT NULL,\n",
    "\t\tPRIMARY KEY(`index_xml`),\n",
    "\t\tCONSTRAINT `fk-tablasql-tablaxml`\n",
    "\t\t\tFOREIGN KEY (`index_sql`)\n",
    "\t\t\tREFERENCES `tabla_sql`(`index_sql`)\n",
    "\t\t\tON UPDATE CASCADE\n",
    "        );\"\"\""
   ]
  },
  {
   "cell_type": "code",
   "execution_count": 13,
   "metadata": {},
   "outputs": [],
   "source": [
    "query_sql = \"\"\"CREATE TABLE `tabla_sql`\n",
    "\t(`index_sql` INT NOT NULL AUTO_INCREMENT,\n",
    "    `q10_part_1`VARCHAR(100),\n",
    "    `q10_part2`VARCHAR(100),\n",
    "    `q10_part3`VARCHAR(100),\n",
    "    `q10_part4`VARCHAR(100),\n",
    "    `q10_part5`VARCHAR(100),\n",
    "    `q10_part6`VARCHAR(100),\n",
    "    `q10_part7`VARCHAR(100),\n",
    "    `q10_part8`VARCHAR(100),\n",
    "    `q10_part9`VARCHAR(100),\n",
    "    `q10_part10`VARCHAR(100),\n",
    "    `q10_part11`VARCHAR(100),\n",
    "    `q10_part12`VARCHAR(100),\n",
    "    `q10_part13`VARCHAR(100),\n",
    "    `q10_part14`VARCHAR(100),\n",
    "    `q10_part15`VARCHAR(100),\n",
    "    `q10_part16`VARCHAR(100),\n",
    "    `d482xta`VARCHAR(100),\n",
    "    PRIMARY KEY (`index_sql`)\n",
    "    );\"\"\""
   ]
  },
  {
   "cell_type": "code",
   "execution_count": 14,
   "metadata": {},
   "outputs": [],
   "source": [
    "query_txt = \"\"\"CREATE TABLE `tabla_txt`\n",
    "\t\t(`index_txt` INT AUTO_INCREMENT NOT NULL,\n",
    "        `index_sql` INT NOT NULL,\n",
    "        `q3` VARCHAR(45),\n",
    "        `q4` VARCHAR(100),\n",
    "        `q5` VARCHAR(100),\n",
    "        `q6` VARCHAR(45),\n",
    "        `q7`VARCHAR(100),\n",
    "        `q8` VARCHAR(45),\n",
    "        `q9` TEXT(1000),\n",
    "        `q11` TEXT(1000),\n",
    "        `q12` TEXT(1000),\n",
    "        `q13` TEXT(1000),\n",
    "        `q14` TEXT(1000),\n",
    "        `q15` TEXT(1000),\n",
    "        `q16`TEXT(1000),\n",
    "        `q17` TEXT(1000),\n",
    "        `q20` TEXT(1000),\n",
    "        `q21` TEXT(1000),\n",
    "\t\t`q22` TEXT(1000),\n",
    "\t\t`q23` TEXT(1000),\n",
    "        `q24` TEXT(1000),\n",
    "\t\t`q25` TEXT(1000),\n",
    "\t\t`q26` TEXT(1000),\n",
    "\t\t`q32` TEXT(1000),\n",
    "\t\t`q33` TEXT(1000),\n",
    "        `q34` TEXT(1000),\n",
    "\t\t`q35` TEXT(1000),\n",
    "\t\t`q41` TEXT(1000),\n",
    "\t\tPRIMARY KEY(`index_txt`),\n",
    "          CONSTRAINT `fk-tablasql-tablatxt`\n",
    "\t\tFOREIGN KEY (`index_sql`)\n",
    "\t\tREFERENCES `tabla_sql`(`index_sql`)\n",
    "        ON UPDATE CASCADE\n",
    "        );\"\"\""
   ]
  },
  {
   "cell_type": "code",
   "execution_count": 15,
   "metadata": {},
   "outputs": [
    {
     "name": "stdout",
     "output_type": "stream",
     "text": [
      "CMySQLCursor: CREATE TABLE IF NOT EXISTS `tabla_xml` \n",
      "..\n"
     ]
    }
   ],
   "source": [
    "crear_tabla('AlumnaAdalab',query_xml)"
   ]
  },
  {
   "cell_type": "code",
   "execution_count": 16,
   "metadata": {},
   "outputs": [
    {
     "name": "stdout",
     "output_type": "stream",
     "text": [
      "1050 (42S01): Table 'tabla_sql' already exists\n",
      "Error Code: 1050\n",
      "SQLSTATE 42S01\n",
      "Message Table 'tabla_sql' already exists\n"
     ]
    }
   ],
   "source": [
    "crear_tabla('AlumnaAdalab',query_sql)"
   ]
  },
  {
   "cell_type": "code",
   "execution_count": 17,
   "metadata": {},
   "outputs": [
    {
     "name": "stdout",
     "output_type": "stream",
     "text": [
      "1050 (42S01): Table 'tabla_txt' already exists\n",
      "Error Code: 1050\n",
      "SQLSTATE 42S01\n",
      "Message Table 'tabla_txt' already exists\n"
     ]
    }
   ],
   "source": [
    "crear_tabla('AlumnaAdalab',query_txt)"
   ]
  },
  {
   "cell_type": "code",
   "execution_count": 14,
   "metadata": {},
   "outputs": [],
   "source": [
    "def tuplas(archivo):\n",
    "    \n",
    "    lista_tupla = []\n",
    "        \n",
    "    for linea in archivo:\n",
    "\n",
    "        lista_tupla.append(tuple(linea.split(\";\")))\n",
    "        \n",
    "    return lista_tupla"
   ]
  },
  {
   "cell_type": "code",
   "execution_count": 15,
   "metadata": {},
   "outputs": [],
   "source": [
    "def insercion_datos(password, query, val):\n",
    "    \n",
    "        cnx = mysql.connector.connect(user='root', password= password,\n",
    "                                    host='127.0.0.1', database='ADALAB_pro')\n",
    "        sql = cnx.cursor() \n",
    "        \n",
    "        try:\n",
    "            sql.executemany(query, val)\n",
    "            cnx.commit()\n",
    "            print(sql.rowcount, \"registro insertado.\")\n",
    "            \n",
    "        except mysql.connector.Error as err:\n",
    "            \n",
    "            print(err)\n",
    "            print(\"Error Code:\", err.errno)\n",
    "            print(\"SQLSTATE\", err.sqlstate)\n",
    "            print(\"Message\", err.msg)"
   ]
  },
  {
   "cell_type": "code",
   "execution_count": 16,
   "metadata": {},
   "outputs": [],
   "source": [
    "val = tuplas('data_txt.txt')"
   ]
  },
  {
   "cell_type": "code",
   "execution_count": 17,
   "metadata": {},
   "outputs": [],
   "source": [
    "query = \"INSERT INTO `tabla_txt` (`index_sql`,`q10_part_1`,`q10_part2`,`q10_part3`,`q10_part4`,`q10_part5`,`q10_part6`,`q10_part7`,`q10_part8`,`q10_part9`,`q10_part10`,`q10_part11`,`q10_part12`,`q10_part13`,`q10_part14`,`q10_part15`,`q10_part16`, `d482xta`)VALUES (%s, %s,%s, %s, %s, %s, %s,%s, %s, %s, %s, %s,%s, %s, %s, %s, %s,%s)\" "
   ]
  },
  {
   "cell_type": "code",
   "execution_count": 18,
   "metadata": {},
   "outputs": [
    {
     "name": "stdout",
     "output_type": "stream",
     "text": [
      "Not enough parameters for the SQL statement\n",
      "Error Code: -1\n",
      "SQLSTATE None\n",
      "Message Not enough parameters for the SQL statement\n"
     ]
    }
   ],
   "source": [
    "insercion_datos(\"AlumnaAdalab\")"
   ]
  },
  {
   "cell_type": "code",
   "execution_count": 3,
   "metadata": {},
   "outputs": [],
   "source": [
    "def tupla_xml(archivo):\n",
    "\n",
    "    lista_tupla = []\n",
    "        \n",
    "    for linea in archivo:\n",
    "        lista_tupla.append(tuple(linea.split(\";\")))\n",
    "                \n",
    "        return lista_tupla"
   ]
  },
  {
   "cell_type": "code",
   "execution_count": 3,
   "metadata": {},
   "outputs": [],
   "source": [
    "def insercion_xml (archivo, query_xml, val):\n",
    "    cnx = mysql.connector.connect(user='root', password='AlumnaAdalab',\n",
    "                                    host='127.0.0.1', database='ADALAB_pro')\n",
    "    sql = cnx.cursor()\n",
    "        \n",
    "    try:\n",
    "        sql.executemany(query_xml, val)\n",
    "        cnx.commit()\n",
    "        print(sql.rowcount, \"registro insertado.\")\n",
    "            \n",
    "    except mysql.connector.Error as err:\n",
    "            \n",
    "        print(err)\n",
    "        print(\"Error Code:\", err.errno)\n",
    "        print(\"SQLSTATE\", err.sqlstate)\n",
    "        print(\"Message\", err.msg)"
   ]
  },
  {
   "cell_type": "code",
   "execution_count": 4,
   "metadata": {},
   "outputs": [],
   "source": [
    "query_xml = \"INSERT INTO tabla_xml(index_xml,time,age,gender,index_sql)VALUES (%s, %s, %s, %s, %s)\" \n",
    "val = tupla_xml(\"datos.xml\")"
   ]
  },
  {
   "cell_type": "code",
   "execution_count": 5,
   "metadata": {},
   "outputs": [
    {
     "name": "stdout",
     "output_type": "stream",
     "text": [
      "Not enough parameters for the SQL statement\n",
      "Error Code: -1\n",
      "SQLSTATE None\n",
      "Message Not enough parameters for the SQL statement\n"
     ]
    }
   ],
   "source": [
    "insercion_xml(\"datos.xml\", query_xml, val)"
   ]
  },
  {
   "cell_type": "code",
   "execution_count": 6,
   "metadata": {},
   "outputs": [
    {
     "name": "stdout",
     "output_type": "stream",
     "text": [
      "[('d',), ('a',), ('t',), ('o',), ('s',), ('.',), ('x',), ('m',), ('l',)]\n"
     ]
    }
   ],
   "source": [
    "print (val)"
   ]
  }
 ],
 "metadata": {
  "kernelspec": {
   "display_name": "base",
   "language": "python",
   "name": "python3"
  },
  "language_info": {
   "codemirror_mode": {
    "name": "ipython",
    "version": 3
   },
   "file_extension": ".py",
   "mimetype": "text/x-python",
   "name": "python",
   "nbconvert_exporter": "python",
   "pygments_lexer": "ipython3",
   "version": "3.9.7"
  },
  "orig_nbformat": 4
 },
 "nbformat": 4,
 "nbformat_minor": 2
}
